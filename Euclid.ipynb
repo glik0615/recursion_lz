{
 "cells": [
  {
   "cell_type": "code",
   "execution_count": null,
   "metadata": {},
   "outputs": [
    {
     "name": "stdout",
     "output_type": "stream",
     "text": [
      "Введите числа\n",
      "['56', '98']\n",
      "[56, 98]\n",
      "14\n"
     ]
    }
   ],
   "source": [
    "# Функция без рекурсии\n",
    "# Ввод чисел\n",
    "print('Введите числа')\n",
    "a_list = input()\n",
    "#Создание двух списков для действий с данными\n",
    "numbers_list = list()\n",
    "my_list = list()\n",
    "#Создаем список из введенных данных\n",
    "numbers_list = a_list.split( )\n",
    "print(numbers_list)\n",
    "#Через цикл преобразуем тип данных и помещаем их в новый список(выводим его для проверки)\n",
    "for i in range (0, len(numbers_list)):\n",
    "    number = int(numbers_list[i])\n",
    "    my_list.append(number)\n",
    "print(my_list)\n",
    "#Создаем функцию\n",
    "def lid(my_list):\n",
    "    while max(my_list) % min(my_list) > 0:\n",
    "        #Создаем условие и вывод\n",
    "        if max(my_list) % min(my_list) == 0:\n",
    "            result = min(my_list)\n",
    "        #Допускаем другое условие и новый вывод\n",
    "        else:\n",
    "            a = max(my_list) % min(my_list)\n",
    "            #Заменяем максимальное значение остатком (удаляем максимальный элемент и добавляем в список новое значение)\n",
    "            my_list.remove(max(my_list))\n",
    "            my_list.append(a)\n",
    "    #преобразуем тип данных\n",
    "    result = str(min(my_list))\n",
    "    return result\n",
    "#Выводим результат\n",
    "print(lid(my_list))\n"
   ]
  }
 ],
 "metadata": {
  "kernelspec": {
   "display_name": "Python 3",
   "language": "python",
   "name": "python3"
  },
  "language_info": {
   "codemirror_mode": {
    "name": "ipython",
    "version": 3
   },
   "file_extension": ".py",
   "mimetype": "text/x-python",
   "name": "python",
   "nbconvert_exporter": "python",
   "pygments_lexer": "ipython3",
   "version": "3.12.3"
  }
 },
 "nbformat": 4,
 "nbformat_minor": 2
}
